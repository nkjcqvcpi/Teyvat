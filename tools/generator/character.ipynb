{
 "cells": [
  {
   "cell_type": "code",
   "execution_count": 16,
   "metadata": {
    "collapsed": true
   },
   "outputs": [],
   "source": [
    "import pandas as pd\n",
    "path = r'C:\\Users\\lhtt1\\OneDrive - stu.hqu.edu.cn\\原神\\Teyvat'"
   ]
  },
  {
   "cell_type": "code",
   "execution_count": null,
   "outputs": [],
   "source": [
    "df = pd.read_excel('ref/avatar.xlsx')\n",
    "df['portrait'] = ''\n",
    "for i, row in df.iterrows():\n",
    "    try:\n",
    "        df.loc[i, 'element'] = row['element'].split()[2]\n",
    "        df.loc[i, 'weapon'] = row['weapon'].split()[1]\n",
    "        df.loc[i, 'portrait'] = 'Portrait_{}_{}'.format(row['nation'], row['name_en']).replace(' ', '_')\n",
    "    except Exception:\n",
    "        print(row['name'])\n",
    "df.to_excel('ref/avatars.xlsx', index=None)"
   ],
   "metadata": {
    "collapsed": false,
    "pycharm": {
     "name": "#%%\n"
    }
   }
  },
  {
   "cell_type": "code",
   "execution_count": 5,
   "outputs": [
    {
     "name": "stdout",
     "output_type": "stream",
     "text": [
      "埃洛伊\n",
      "旅行者\n"
     ]
    }
   ],
   "source": [
    "df = pd.read_excel(r'C:\\Users\\lhtt1\\OneDrive - stu.hqu.edu.cn\\原神\\Teyvat\\ref\\avatars.xlsx')\n",
    "nation = {'Liyue': 'LIY', 'Snezhnaya': 'SNE', 'Mondstadt': 'MST', 'Inazuma': 'INZ'}\n",
    "\n",
    "df['character_id'] = ''\n",
    "for i, row in df.iterrows():\n",
    "    try:\n",
    "       df.loc[i, 'character_id'] = '{}_{}'.format(nation[row['nation']], row['name_en'].replace(' ', '_').lower())\n",
    "    except Exception:\n",
    "        print(row['name'])\n",
    "df.to_excel(r'C:\\Users\\lhtt1\\OneDrive - stu.hqu.edu.cn\\原神\\Teyvat\\ref\\avatars.xlsx')"
   ],
   "metadata": {
    "collapsed": false,
    "pycharm": {
     "name": "#%%\n"
    }
   }
  },
  {
   "cell_type": "code",
   "execution_count": 9,
   "outputs": [],
   "source": [
    "ids = {'Mondstadt': {}, 'Inazuma': {}, 'Liyue': {}, 'Snezhnaya': {}}\n",
    "\n",
    "for i, row in df.iterrows():\n",
    "    try:\n",
    "        ids[row['nation']][row['character_id']] = row['name']\n",
    "    except Exception:\n",
    "        pass"
   ],
   "metadata": {
    "collapsed": false,
    "pycharm": {
     "name": "#%%\n"
    }
   }
  },
  {
   "cell_type": "code",
   "execution_count": 18,
   "outputs": [],
   "source": [
    "with open(path + r'\\src\\Teyvat\\localisation\\english\\nsb_characters_l_english.yml', 'w', encoding='utf_8_sig') as f:\n",
    "    f.write('l_english:\\n')\n",
    "    for nation, avatars in ids.items():\n",
    "        f.write('#{}\\n'.format(nation.upper()))\n",
    "        for k, v in avatars.items():\n",
    "            f.write(' {}:0 \"{}\"\\n'.format(k, v))\n",
    "        f.write('\\n')"
   ],
   "metadata": {
    "collapsed": false,
    "pycharm": {
     "name": "#%%\n"
    }
   }
  }
 ],
 "metadata": {
  "kernelspec": {
   "display_name": "Python 3",
   "language": "python",
   "name": "python3"
  },
  "language_info": {
   "codemirror_mode": {
    "name": "ipython",
    "version": 2
   },
   "file_extension": ".py",
   "mimetype": "text/x-python",
   "name": "python",
   "nbconvert_exporter": "python",
   "pygments_lexer": "ipython2",
   "version": "2.7.6"
  }
 },
 "nbformat": 4,
 "nbformat_minor": 0
}