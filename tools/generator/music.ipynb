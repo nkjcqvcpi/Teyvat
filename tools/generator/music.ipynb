{
 "cells": [
  {
   "cell_type": "code",
   "execution_count": 1,
   "metadata": {
    "pycharm": {
     "name": "#%%\n"
    }
   },
   "outputs": [],
   "source": [
    "import os\n",
    "import mutagen\n",
    "import pandas as pd\n",
    "import subprocess\n",
    "from tqdm.notebook import tqdm\n",
    "\n",
    "path = r'C:\\CloudMusic'"
   ]
  },
  {
   "cell_type": "code",
   "execution_count": 2,
   "metadata": {
    "pycharm": {
     "name": "#%%\n"
    }
   },
   "outputs": [],
   "source": [
    "musics = pd.DataFrame(columns=['filename', 'album', 'artist', 'title', 'track_number'])\n",
    "\n",
    "cover = {}\n",
    "\n",
    "t = os.listdir(path)\n",
    "for music in t:\n",
    "    flac = mutagen.File(os.path.join(path, music))\n",
    "    album = flac.tags['ALBUM'][0]\n",
    "    metadata = {'filename': flac.filename, 'album': album, 'artist': flac.tags['ARTIST'][0], 'title': flac.tags['TITLE'][0], 'track_number': flac.tags['TRACKNUMBER'][0]}\n",
    "    musics = musics.append(metadata, ignore_index=True)\n",
    "    if album not in cover.keys():\n",
    "        cover[album] = flac.pictures[0]\n"
   ]
  },
  {
   "cell_type": "markdown",
   "metadata": {
    "pycharm": {
     "name": "#%% md\n"
    }
   },
   "source": [
    "musics.to_excel(r'C:\\Users\\lhtt1\\OneDrive - stu.hqu.edu.cn\\原神\\Teyvat\\ref\\musics.xlsx')"
   ]
  },
  {
   "cell_type": "code",
   "execution_count": 46,
   "metadata": {
    "pycharm": {
     "name": "#%%\n"
    }
   },
   "outputs": [
    {
     "data": {
      "text/plain": "0it [00:00, ?it/s]",
      "application/vnd.jupyter.widget-view+json": {
       "version_major": 2,
       "version_minor": 0,
       "model_id": "d12512083afb421ba902fac09c78a80c"
      }
     },
     "metadata": {},
     "output_type": "display_data"
    }
   ],
   "source": [
    "from subprocess import PIPE\n",
    "\n",
    "for i, row in tqdm(musics.iterrows()):\n",
    "    fp = os.path.join(r'C:\\Users\\lhtt1\\OneDrive - stu.hqu.edu.cn\\原神\\Teyvat\\lib\\music', row['title'] + '.ogg')\n",
    "    cmd = subprocess.run([r'C:\\Users\\lhtt1\\ffmpeg.exe', '-i', row['filename'], '-vn', '-b:a', '320k', fp], stderr=PIPE, stdout=PIPE)\n",
    "    ogg = mutagen.File(fp)\n",
    "    ogg.pop('encoder')\n",
    "    ogg.pop('DESCRIPTION')\n",
    "    ogg.pop('TRACKNUMBER')\n",
    "    ogg.tags['GENRE'] = 'Soundtrack'\n",
    "    ogg.tags['DATE'] = '2021'\n",
    "    ogg.save()"
   ]
  },
  {
   "cell_type": "code",
   "execution_count": 45,
   "outputs": [],
   "source": [],
   "metadata": {
    "collapsed": false,
    "pycharm": {
     "name": "#%%\n"
    }
   }
  },
  {
   "cell_type": "code",
   "execution_count": null,
   "metadata": {
    "collapsed": true,
    "pycharm": {
     "name": "#%%\n"
    }
   },
   "outputs": [],
   "source": [
    "asset_format = 'music = {\\n\\tname = \"{}\"\\n\\tfile = \"{}}\"\\n\\tvolume = {}}'\n",
    "songs_format = 'music = {\\n\\tsong = \"{}}\"\\n\\tchance = {\\n\\t\\tmodifier = {\\n\\t\\t\\t{}}\\n\\t\\t}\\n\\t}\\n}'\n",
    "songs_header_format = 'music_station = \"{}\"'\n",
    "\n",
    "music_list = pd.read_excel(r'C:\\Users\\lhtt1\\OneDrive - stu.hqu.edu.cn\\原神\\Teyvat\\ref\\music.xlsx')\n",
    "\n",
    "\n"
   ]
  }
 ],
 "metadata": {
  "kernelspec": {
   "display_name": "Python 3 (ipykernel)",
   "language": "python",
   "name": "python3"
  },
  "language_info": {
   "codemirror_mode": {
    "name": "ipython",
    "version": 3
   },
   "file_extension": ".py",
   "mimetype": "text/x-python",
   "name": "python",
   "nbconvert_exporter": "python",
   "pygments_lexer": "ipython3",
   "version": "3.9.7"
  }
 },
 "nbformat": 4,
 "nbformat_minor": 1
}